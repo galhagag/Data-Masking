{
 "cells": [
  {
   "cell_type": "markdown",
   "metadata": {},
   "source": [
    "<font color='blue'>\n",
    "    \n",
    "# Intro\n",
    "\n",
    "</font>\n"
   ]
  },
  {
   "cell_type": "markdown",
   "metadata": {},
   "source": [
    "###  Insurance company wants to protect its clients' data. In this notebook I'll use linear algebra properties for data masking that would make it hard to recover personal information from the transformed data.\n",
    "\n",
    "\n",
    "---\n",
    "**Features:** insured person's gender, age, salary, and number of family members.\n",
    "\n",
    "**Target:** number of insurance benefits received by the insured person over the last five years.\n",
    "\n",
    "**The goal of this notebook is not achieving the best prediction score but rather exhibit a way to mask sensitive data**\n",
    "\n",
    "-----"
   ]
  },
  {
   "cell_type": "code",
   "execution_count": 1,
   "metadata": {},
   "outputs": [],
   "source": [
    "# imports\n",
    "\n",
    "import numpy as np\n",
    "from numpy.linalg import inv\n",
    "import pandas as pd\n",
    "from sklearn.preprocessing import MinMaxScaler\n",
    "from sklearn.model_selection import train_test_split\n",
    "from sklearn.model_selection import cross_val_score\n",
    "from sklearn.linear_model import LinearRegression\n",
    "from sklearn.pipeline import Pipeline\n",
    "from sklearn.metrics import r2_score\n",
    "\n",
    "import warnings\n",
    "warnings.filterwarnings('ignore')"
   ]
  },
  {
   "cell_type": "markdown",
   "metadata": {},
   "source": [
    "# importing data"
   ]
  },
  {
   "cell_type": "code",
   "execution_count": 2,
   "metadata": {},
   "outputs": [
    {
     "data": {
      "text/html": [
       "<div>\n",
       "<style scoped>\n",
       "    .dataframe tbody tr th:only-of-type {\n",
       "        vertical-align: middle;\n",
       "    }\n",
       "\n",
       "    .dataframe tbody tr th {\n",
       "        vertical-align: top;\n",
       "    }\n",
       "\n",
       "    .dataframe thead th {\n",
       "        text-align: right;\n",
       "    }\n",
       "</style>\n",
       "<table border=\"1\" class=\"dataframe\">\n",
       "  <thead>\n",
       "    <tr style=\"text-align: right;\">\n",
       "      <th></th>\n",
       "      <th>Gender</th>\n",
       "      <th>Age</th>\n",
       "      <th>Salary</th>\n",
       "      <th>Family members</th>\n",
       "      <th>Insurance benefits</th>\n",
       "    </tr>\n",
       "  </thead>\n",
       "  <tbody>\n",
       "    <tr>\n",
       "      <th>0</th>\n",
       "      <td>1</td>\n",
       "      <td>41.0</td>\n",
       "      <td>49600.0</td>\n",
       "      <td>1</td>\n",
       "      <td>0</td>\n",
       "    </tr>\n",
       "    <tr>\n",
       "      <th>1</th>\n",
       "      <td>0</td>\n",
       "      <td>46.0</td>\n",
       "      <td>38000.0</td>\n",
       "      <td>1</td>\n",
       "      <td>1</td>\n",
       "    </tr>\n",
       "    <tr>\n",
       "      <th>2</th>\n",
       "      <td>0</td>\n",
       "      <td>29.0</td>\n",
       "      <td>21000.0</td>\n",
       "      <td>0</td>\n",
       "      <td>0</td>\n",
       "    </tr>\n",
       "    <tr>\n",
       "      <th>3</th>\n",
       "      <td>0</td>\n",
       "      <td>21.0</td>\n",
       "      <td>41700.0</td>\n",
       "      <td>2</td>\n",
       "      <td>0</td>\n",
       "    </tr>\n",
       "    <tr>\n",
       "      <th>4</th>\n",
       "      <td>1</td>\n",
       "      <td>28.0</td>\n",
       "      <td>26100.0</td>\n",
       "      <td>0</td>\n",
       "      <td>0</td>\n",
       "    </tr>\n",
       "  </tbody>\n",
       "</table>\n",
       "</div>"
      ],
      "text/plain": [
       "   Gender   Age   Salary  Family members  Insurance benefits\n",
       "0       1  41.0  49600.0               1                   0\n",
       "1       0  46.0  38000.0               1                   1\n",
       "2       0  29.0  21000.0               0                   0\n",
       "3       0  21.0  41700.0               2                   0\n",
       "4       1  28.0  26100.0               0                   0"
      ]
     },
     "execution_count": 2,
     "metadata": {},
     "output_type": "execute_result"
    }
   ],
   "source": [
    "data = pd.read_csv('insurance_us.csv')\n",
    "data.head()"
   ]
  },
  {
   "cell_type": "code",
   "execution_count": 3,
   "metadata": {},
   "outputs": [],
   "source": [
    "# rename columns for convenience\n",
    "\n",
    "data.columns = data.columns.str.replace(' ', '_').str.lower()"
   ]
  },
  {
   "cell_type": "code",
   "execution_count": 4,
   "metadata": {},
   "outputs": [
    {
     "name": "stdout",
     "output_type": "stream",
     "text": [
      "<class 'pandas.core.frame.DataFrame'>\n",
      "RangeIndex: 5000 entries, 0 to 4999\n",
      "Data columns (total 5 columns):\n",
      "gender                5000 non-null int64\n",
      "age                   5000 non-null float64\n",
      "salary                5000 non-null float64\n",
      "family_members        5000 non-null int64\n",
      "insurance_benefits    5000 non-null int64\n",
      "dtypes: float64(2), int64(3)\n",
      "memory usage: 195.4 KB\n"
     ]
    }
   ],
   "source": [
    "data.info()"
   ]
  },
  {
   "cell_type": "markdown",
   "metadata": {},
   "source": [
    "no missing values, all columns in the right dtype"
   ]
  },
  {
   "cell_type": "code",
   "execution_count": 5,
   "metadata": {},
   "outputs": [
    {
     "data": {
      "text/plain": [
       "0    4436\n",
       "1     423\n",
       "2     115\n",
       "3      18\n",
       "4       7\n",
       "5       1\n",
       "Name: insurance_benefits, dtype: int64"
      ]
     },
     "execution_count": 5,
     "metadata": {},
     "output_type": "execute_result"
    }
   ],
   "source": [
    "# target\n",
    "\n",
    "data.insurance_benefits.value_counts()"
   ]
  },
  {
   "cell_type": "markdown",
   "metadata": {},
   "source": [
    "I could have threat the task either as classification or regression because of few outputs. I'll choose to use regression."
   ]
  },
  {
   "cell_type": "markdown",
   "metadata": {},
   "source": [
    "# Modeling - LinearRegression"
   ]
  },
  {
   "cell_type": "code",
   "execution_count": 6,
   "metadata": {},
   "outputs": [
    {
     "data": {
      "text/plain": [
       "((5000, 4), (5000,))"
      ]
     },
     "execution_count": 6,
     "metadata": {},
     "output_type": "execute_result"
    }
   ],
   "source": [
    "X = data.drop('insurance_benefits', axis=1)\n",
    "y = data.insurance_benefits\n",
    "\n",
    "X.shape, y.shape"
   ]
  },
  {
   "cell_type": "code",
   "execution_count": 7,
   "metadata": {},
   "outputs": [],
   "source": [
    "X_train, X_test, y_train, y_test = train_test_split(X, y, test_size=0.2, random_state=42)"
   ]
  },
  {
   "cell_type": "code",
   "execution_count": 8,
   "metadata": {},
   "outputs": [
    {
     "name": "stdout",
     "output_type": "stream",
     "text": [
      "validation score: 0.406\n"
     ]
    }
   ],
   "source": [
    "steps = [\n",
    "    ('scaler', MinMaxScaler()),\n",
    "    ('model', LinearRegression())\n",
    "]\n",
    "pipe = Pipeline(steps=steps)\n",
    "scores = cross_val_score(pipe, X_train, y_train, cv=5, scoring='r2')\n",
    "print(f'validation score: {scores.mean():.3f}')"
   ]
  },
  {
   "cell_type": "code",
   "execution_count": 9,
   "metadata": {},
   "outputs": [
    {
     "name": "stdout",
     "output_type": "stream",
     "text": [
      "test score: 0.437\n"
     ]
    }
   ],
   "source": [
    "# pipe.score will return the same r2 score but I'll caclulate it manual\n",
    "\n",
    "pipe.fit(X_train, y_train)\n",
    "y_test_preds = pipe.predict(X_test)\n",
    "test_score = r2_score(y_test, y_test_preds)\n",
    "\n",
    "print(f'test score: {test_score:.3f}')"
   ]
  },
  {
   "cell_type": "markdown",
   "metadata": {},
   "source": [
    "# Data Masking"
   ]
  },
  {
   "cell_type": "markdown",
   "metadata": {},
   "source": [
    "## Theoretical proof for obtaining the same predictions using linear algebra and linear regression properties"
   ]
  },
  {
   "cell_type": "markdown",
   "metadata": {},
   "source": [
    "$X$ - original matrix\n",
    "\n",
    "$A$ - invertible matrix\n",
    "\n",
    "$I$ - idintity matrix\n",
    "\n",
    "$a$ - original predictions\n",
    "\n",
    "$w$ - original weights\n",
    "\n",
    "$a'$ - new predictions\n",
    "\n",
    "$w'$ - new weights\n",
    "_______________________\n",
    "\n",
    "\n",
    "$a = Xw$\n",
    "\n",
    "$a' = XAw'$\n",
    "\n",
    "according to linear regression loss function:  \n",
    "> $w = arg min MSE(Xw, y)$\n",
    "\n",
    "> $w = (X^TX)^{-1}X^Ty$\n",
    "\n",
    "$w' = ((XA)^T(XA))^{-1}(XA)^Ty$\n",
    "\n",
    "$w' = (A^T(X^TX)A)^{-1}(XA)^Ty$\n",
    "\n",
    "$w' = A^{-1}(X^TX)^{-1}(A^T)^{-1}(XA)^Ty$\n",
    "\n",
    "$w' = A^{-1}X^{-1}(X^T)^{-1}(A^T)^{-1}A^TX^Ty$\n",
    "\n",
    "$w' = A^{-1}X^{-1}(X^T)^{-1}IX^Ty$\n",
    "\n",
    "$w' = A^{-1}(X^TX)^{-1}X^Ty$\n",
    "\n",
    "$w' = A^{-1}w$\n",
    "- - - \n",
    "$a' = XAA^{-1}w$\n",
    "\n",
    "$a' = Xw$       \n"
   ]
  },
  {
   "cell_type": "markdown",
   "metadata": {},
   "source": [
    "**SAME PREDICTIONS**"
   ]
  },
  {
   "cell_type": "markdown",
   "metadata": {},
   "source": [
    "### And now, the application on real data:"
   ]
  },
  {
   "cell_type": "raw",
   "metadata": {},
   "source": [
    "Masking Teory:\n",
    "-------------\n",
    "\n",
    "X - original matrix\n",
    "A - random (square) invertable matrix\n",
    "inv(A) - inverted matrix A\n",
    "I - idintity matrix\n",
    "\n",
    "X = X.dot(I)\n",
    "A.dot(inv(A)) = I\n",
    "\n",
    "X = X.dot(A.dot(inv(A)))\n",
    "\n",
    "masking --> X.dot(A)\n",
    "unmasking --> masking.dot(inv(A))"
   ]
  },
  {
   "cell_type": "code",
   "execution_count": 10,
   "metadata": {},
   "outputs": [],
   "source": [
    "def make_key(mask_shape):\n",
    "    \"\"\"providing a random key for data masking\"\"\"\n",
    "    inv_check = False\n",
    "#     check that matrix is invertible\n",
    "    while not inv_check:\n",
    "        random_matrix = np.random.normal(size=(mask_shape,mask_shape))\n",
    "        try:\n",
    "            inv_matrix = np.linalg.inv(random_matrix)\n",
    "            inv_check = True\n",
    "        except:\n",
    "            continue\n",
    "            \n",
    "    return random_matrix\n",
    "\n",
    "def masking(X, mask_matrix):\n",
    "    \"\"\"masking the data given a key\"\"\"\n",
    "    return X.values.dot(mask_matrix)\n",
    "\n",
    "def unmasking(X, mask_matrix):\n",
    "    \"\"\"unmasking the data given the same key used for masking\"\"\"\n",
    "    return X.dot(np.linalg.inv(mask_matrix))"
   ]
  },
  {
   "cell_type": "code",
   "execution_count": 11,
   "metadata": {},
   "outputs": [],
   "source": [
    "mask_matrix = make_key(X.shape[1])\n",
    "X_train_mask, X_test_mask = masking(X_train, mask_matrix), masking(X_test, mask_matrix)"
   ]
  },
  {
   "cell_type": "code",
   "execution_count": 12,
   "metadata": {},
   "outputs": [
    {
     "data": {
      "text/plain": [
       "((4000, 4), (1000, 4))"
      ]
     },
     "execution_count": 12,
     "metadata": {},
     "output_type": "execute_result"
    }
   ],
   "source": [
    "X_train_mask.shape, X_test_mask.shape"
   ]
  },
  {
   "cell_type": "code",
   "execution_count": 13,
   "metadata": {
    "scrolled": true
   },
   "outputs": [
    {
     "data": {
      "text/plain": [
       "(array([ -9758.93883348, -26728.93544587,  89634.58937376, -39296.28695247]),\n",
       " array([0.00e+00, 1.80e+01, 4.94e+04, 1.00e+00]))"
      ]
     },
     "execution_count": 13,
     "metadata": {},
     "output_type": "execute_result"
    }
   ],
   "source": [
    "# real data VS masking\n",
    "X_train_mask[0,:], X_train.values[0,:]"
   ]
  },
  {
   "cell_type": "markdown",
   "metadata": {},
   "source": [
    "## Re-training and comparing results"
   ]
  },
  {
   "cell_type": "code",
   "execution_count": 14,
   "metadata": {},
   "outputs": [
    {
     "name": "stdout",
     "output_type": "stream",
     "text": [
      "validation score: 0.406\n"
     ]
    }
   ],
   "source": [
    "steps = [\n",
    "    ('scaler', MinMaxScaler()),\n",
    "    ('model', LinearRegression())\n",
    "]\n",
    "pipe_mask = Pipeline(steps=steps)\n",
    "scores_mask = cross_val_score(pipe_mask, X_train_mask, y_train, cv=5, scoring='r2')\n",
    "print(f'validation score: {scores_mask.mean():.3f}')"
   ]
  },
  {
   "cell_type": "code",
   "execution_count": 15,
   "metadata": {
    "scrolled": true
   },
   "outputs": [
    {
     "name": "stdout",
     "output_type": "stream",
     "text": [
      "test score: 0.437\n"
     ]
    }
   ],
   "source": [
    "pipe_mask.fit(X_train_mask, y_train)\n",
    "y_test_preds_mask = pipe_mask.predict(X_test_mask)\n",
    "test_score_mask = r2_score(y_test, y_test_preds_mask)\n",
    "\n",
    "print(f'test score: {test_score_mask:.3f}')"
   ]
  },
  {
   "cell_type": "markdown",
   "metadata": {},
   "source": [
    "**The results for masked data & real data are the same !**"
   ]
  }
 ],
 "metadata": {
  "kernelspec": {
   "display_name": "Python 3",
   "language": "python",
   "name": "python3"
  },
  "language_info": {
   "codemirror_mode": {
    "name": "ipython",
    "version": 3
   },
   "file_extension": ".py",
   "mimetype": "text/x-python",
   "name": "python",
   "nbconvert_exporter": "python",
   "pygments_lexer": "ipython3",
   "version": "3.7.3"
  }
 },
 "nbformat": 4,
 "nbformat_minor": 4
}
